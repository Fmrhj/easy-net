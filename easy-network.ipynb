{
 "cells": [
  {
   "cell_type": "markdown",
   "metadata": {},
   "source": [
    "# Easy network: experimenting with `networkx`"
   ]
  },
  {
   "cell_type": "code",
   "execution_count": 1,
   "metadata": {},
   "outputs": [],
   "source": [
    "# Run this cell to install dependencies \n",
    "#!pip install -r requirements.txt"
   ]
  },
  {
   "cell_type": "code",
   "execution_count": 2,
   "metadata": {},
   "outputs": [],
   "source": [
    "import networkx as nx\n",
    "from networkx import MultiGraph\n",
    "import pandas as pd\n",
    "import numpy as np\n",
    "import matplotlib.pyplot as plt\n",
    "from matplotlib.patches import ConnectionStyle "
   ]
  },
  {
   "cell_type": "markdown",
   "metadata": {},
   "source": [
    "## Create sample datasets"
   ]
  },
  {
   "cell_type": "code",
   "execution_count": 3,
   "metadata": {},
   "outputs": [],
   "source": [
    "column_names = ['Name', 'IP', 'Telefon', 'Address']\n",
    "df_A = pd.DataFrame([['Cla', '95.238.115.7', '12345', 'Bismarckstrasse 5']], columns=column_names)\n",
    "df_B = pd.DataFrame([['Joh', '95.238.115.7', '23516', 'Unter der Linden 1'], \n",
    "                     ['Ale', '94.234.442.4', '24862', 'Bayernallee 12'], \n",
    "                     ['Tzd', '98.556.88.9', '12345', 'Hermannplatz 2'],\n",
    "                     ['Ale', '96.556.88.9', '13445','Bismarckstrasse 5'],\n",
    "                     ['Bra', '0.156.452.4', '12345', 'Bismarckstrasse 5'],\n",
    "                     ['Deu', '0.0.452.4', '12345', 'Braunstraße 88'],\n",
    "                     ['Ale', '95.238.115.7', '41345', 'Arschlochstrasse 00']\n",
    "                    ], columns=column_names)"
   ]
  },
  {
   "cell_type": "markdown",
   "metadata": {},
   "source": [
    "## Merge both datasets \n",
    "Merge dataset on the columns where the entity of the first dataset could have been in contact each record of the second dataset"
   ]
  },
  {
   "cell_type": "code",
   "execution_count": 4,
   "metadata": {},
   "outputs": [
    {
     "data": {
      "text/html": [
       "<div>\n",
       "<style scoped>\n",
       "    .dataframe tbody tr th:only-of-type {\n",
       "        vertical-align: middle;\n",
       "    }\n",
       "\n",
       "    .dataframe tbody tr th {\n",
       "        vertical-align: top;\n",
       "    }\n",
       "\n",
       "    .dataframe thead th {\n",
       "        text-align: right;\n",
       "    }\n",
       "</style>\n",
       "<table border=\"1\" class=\"dataframe\">\n",
       "  <thead>\n",
       "    <tr style=\"text-align: right;\">\n",
       "      <th></th>\n",
       "      <th>A</th>\n",
       "      <th>B</th>\n",
       "      <th>Channel</th>\n",
       "    </tr>\n",
       "  </thead>\n",
       "  <tbody>\n",
       "    <tr>\n",
       "      <th>0</th>\n",
       "      <td>Cla</td>\n",
       "      <td>Joh</td>\n",
       "      <td>IP</td>\n",
       "    </tr>\n",
       "    <tr>\n",
       "      <th>1</th>\n",
       "      <td>Cla</td>\n",
       "      <td>Ale</td>\n",
       "      <td>IP</td>\n",
       "    </tr>\n",
       "    <tr>\n",
       "      <th>2</th>\n",
       "      <td>Cla</td>\n",
       "      <td>Tzd</td>\n",
       "      <td>Telefon</td>\n",
       "    </tr>\n",
       "    <tr>\n",
       "      <th>3</th>\n",
       "      <td>Cla</td>\n",
       "      <td>Bra</td>\n",
       "      <td>Telefon</td>\n",
       "    </tr>\n",
       "    <tr>\n",
       "      <th>4</th>\n",
       "      <td>Cla</td>\n",
       "      <td>Deu</td>\n",
       "      <td>Telefon</td>\n",
       "    </tr>\n",
       "    <tr>\n",
       "      <th>5</th>\n",
       "      <td>Cla</td>\n",
       "      <td>Ale</td>\n",
       "      <td>Address</td>\n",
       "    </tr>\n",
       "    <tr>\n",
       "      <th>6</th>\n",
       "      <td>Cla</td>\n",
       "      <td>Bra</td>\n",
       "      <td>Address</td>\n",
       "    </tr>\n",
       "  </tbody>\n",
       "</table>\n",
       "</div>"
      ],
      "text/plain": [
       "     A    B  Channel\n",
       "0  Cla  Joh       IP\n",
       "1  Cla  Ale       IP\n",
       "2  Cla  Tzd  Telefon\n",
       "3  Cla  Bra  Telefon\n",
       "4  Cla  Deu  Telefon\n",
       "5  Cla  Ale  Address\n",
       "6  Cla  Bra  Address"
      ]
     },
     "execution_count": 4,
     "metadata": {},
     "output_type": "execute_result"
    }
   ],
   "source": [
    "A = []\n",
    "B = []\n",
    "Channel = []\n",
    "for _ in column_names[1:]:\n",
    "    tmp = pd.merge(df_A, df_B,  how='left', on=_)\n",
    "    if len(tmp)>=1:\n",
    "        A.extend(tmp['Name_x'])\n",
    "        B.extend(tmp['Name_y'])\n",
    "        Channel.extend([_ for i in range(len(tmp))])\n",
    "        \n",
    "res = pd.DataFrame({'A': A, 'B':B, 'Channel':Channel})\n",
    "res"
   ]
  },
  {
   "cell_type": "markdown",
   "metadata": {},
   "source": [
    "## Define a graph (nodes, edges) from `pandas.DataFrame`"
   ]
  },
  {
   "cell_type": "code",
   "execution_count": 5,
   "metadata": {},
   "outputs": [],
   "source": [
    "# define a networkx graph\n",
    "G = nx.MultiGraph()\n",
    "G = nx.from_pandas_edgelist(res, 'A', 'B', ['Channel'], create_using=nx.MultiGraph())\n",
    "pos = nx.spring_layout(G, dim=2)"
   ]
  },
  {
   "cell_type": "code",
   "execution_count": 6,
   "metadata": {},
   "outputs": [
    {
     "data": {
      "image/png": "[encoded data removed]",
      "text/plain": [
       "<Figure size 1152x576 with 1 Axes>"
      ]
     },
     "metadata": {},
     "output_type": "display_data"
    }
   ],
   "source": [
    "plt.figure(figsize=(16, 8))\n",
    "\n",
    "nx.draw(G, \n",
    "        pos=pos, \n",
    "        connectionstyle=ConnectionStyle(\"Angle\", rad=0.2, angleA=90, angleB=0),#'arc3,rad=0.2',\n",
    "        width=2, \n",
    "        alpha=0.8,  \n",
    "        edge_color='b', \n",
    "        with_labels=True, \n",
    "        node_color='#00b4d9', \n",
    "        node_size=500,\n",
    "        font_size=20, \n",
    "        font_color='black') \n",
    "\n",
    "nx.draw_networkx_edge_labels(G, pos)\n",
    "        \n",
    "plt.axis('off')\n",
    "plt.show()"
   ]
  },
  {
   "cell_type": "markdown",
   "metadata": {},
   "source": [
    "> **Note**: there is a problem with networkx and arch edges. For instance, (Cl, Bra) had two contact channels and in the graph we only see one edge. This is because even if the graph draws both edges, they appear on top of each other. See this [thread](https://stackoverflow.com/questions/15053686/networkx-overlapping-edges-when-visualizing-multigraph). "
   ]
  },
  {
   "cell_type": "markdown",
   "metadata": {},
   "source": [
    "## Solution: plot mutiple edges in two steps "
   ]
  },
  {
   "cell_type": "markdown",
   "metadata": {},
   "source": [
    "Create a new graph with the same nodes and **unique** way edges"
   ]
  },
  {
   "cell_type": "markdown",
   "metadata": {},
   "source": [
    "### Create a subset with unique edges"
   ]
  },
  {
   "cell_type": "code",
   "execution_count": 7,
   "metadata": {},
   "outputs": [],
   "source": [
    "all_edges = list(zip(res.A, res.B))\n",
    "unique_res = res[['A', 'B']].drop_duplicates()\n",
    "unique_edges = list(zip(unique_res.A, unique_res.B))\n",
    "unique_nodes = unique_res['B'].tolist()\n",
    "unique_nodes.append(unique_res['A'].unique()[0])\n",
    "#pd.merge(unique_res, res, how='left', on=['A', 'B'])"
   ]
  },
  {
   "cell_type": "code",
   "execution_count": 8,
   "metadata": {},
   "outputs": [
    {
     "data": {
      "text/plain": [
       "[('Cla', 'Joh'),\n",
       " ('Cla', 'Ale'),\n",
       " ('Cla', 'Tzd'),\n",
       " ('Cla', 'Bra'),\n",
       " ('Cla', 'Deu'),\n",
       " ('Cla', 'Ale'),\n",
       " ('Cla', 'Bra')]"
      ]
     },
     "execution_count": 8,
     "metadata": {},
     "output_type": "execute_result"
    }
   ],
   "source": [
    "list(zip(res.A, res.B))"
   ]
  },
  {
   "cell_type": "code",
   "execution_count": 9,
   "metadata": {},
   "outputs": [
    {
     "data": {
      "text/plain": [
       "[('Cla', 'Joh'),\n",
       " ('Cla', 'Ale'),\n",
       " ('Cla', 'Tzd'),\n",
       " ('Cla', 'Bra'),\n",
       " ('Cla', 'Deu')]"
      ]
     },
     "execution_count": 9,
     "metadata": {},
     "output_type": "execute_result"
    }
   ],
   "source": [
    "list(zip(unique_res.A, unique_res.B))"
   ]
  },
  {
   "cell_type": "code",
   "execution_count": 10,
   "metadata": {},
   "outputs": [
    {
     "data": {
      "text/plain": [
       "[('Cla', 'Joh'),\n",
       " ('Cla', 'Ale'),\n",
       " ('Cla', 'Tzd'),\n",
       " ('Cla', 'Bra'),\n",
       " ('Cla', 'Deu'),\n",
       " ('Cla', 'Ale'),\n",
       " ('Cla', 'Bra')]"
      ]
     },
     "execution_count": 10,
     "metadata": {},
     "output_type": "execute_result"
    }
   ],
   "source": [
    "[all_edges[j] for j in range(len(all_edges)) if all_edges[j] in unique_edges]"
   ]
  },
  {
   "cell_type": "code",
   "execution_count": 11,
   "metadata": {},
   "outputs": [
    {
     "data": {
      "image/png": "[encoded data removed]",
      "text/plain": [
       "<Figure size 432x288 with 1 Axes>"
      ]
     },
     "metadata": {},
     "output_type": "display_data"
    }
   ],
   "source": [
    "# Create a directed graph\n",
    "G = nx.DiGraph()\n",
    "G.add_nodes_from(unique_nodes)\n",
    "#G = nx.from_pandas_edgelist(unique_edges, 'A', 'B', ['Channel'], create_using=nx.MultiGraph())\n",
    "pos = nx.spring_layout(G)\n",
    "nx.draw_networkx_nodes(G, pos, connectionstyle='arc3, rad = 0.1', node_color = 'b', node_size = 100, alpha = 1)\n",
    "nx.draw_networkx_edges(G, pos,connectâionstyle='arc3, rad = 0.1', edgelist = unique_edges, width = 2, alpha = 0.5, edge_color='b')\n",
    "#nx.draw_networkx_edges(G, pos,connectionstyle='arc3, rad = 0.1', edgelist= [(1,0)], width = 1, alpha = 1)\n",
    "plt.axis('off')\n",
    "plt.show() "
   ]
  },
  {
   "cell_type": "markdown",
   "metadata": {},
   "source": [
    "## Bonus: yet another solution but loosing labels"
   ]
  },
  {
   "cell_type": "code",
   "execution_count": 12,
   "metadata": {},
   "outputs": [
    {
     "data": {
      "image/png": "[encoded data removed]",
      "text/plain": [
       "<Figure size 432x288 with 1 Axes>"
      ]
     },
     "metadata": {},
     "output_type": "display_data"
    }
   ],
   "source": [
    "pos = nx.spring_layout(G)\n",
    "nx.draw_networkx_nodes(G, pos, with_labels=True, alpha = 1)\n",
    "ax = plt.gca()\n",
    "for e in G.edges:\n",
    "    ax.annotate(\"\",\n",
    "                xy=pos[e[0]], xycoords='data',\n",
    "                xytext=pos[e[1]], textcoords='data',\n",
    "                arrowprops=dict(arrowstyle=\"->\", color=\"0.5\",\n",
    "                                shrinkA=5, shrinkB=5,\n",
    "                                patchA=None, patchB=None,\n",
    "                                connectionstyle=\"arc3,rad=rrr\".replace('rrr',str(2*(e[2]-0.5))\n",
    "                                ),\n",
    "                                ),\n",
    "                )\n",
    "plt.axis('off')\n",
    "plt.show()"
   ]
  }
 ],
 "metadata": {
  "kernelspec": {
   "display_name": "Python 3",
   "language": "python",
   "name": "python3"
  },
  "language_info": {
   "codemirror_mode": {
    "name": "ipython",
    "version": 3
   },
   "file_extension": ".py",
   "mimetype": "text/x-python",
   "name": "python",
   "nbconvert_exporter": "python",
   "pygments_lexer": "ipython3",
   "version": "3.8.2"
  }
 },
 "nbformat": 4,
 "nbformat_minor": 4
}
